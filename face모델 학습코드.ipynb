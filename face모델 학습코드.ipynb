{
 "cells": [
  {
   "cell_type": "code",
   "execution_count": null,
   "metadata": {},
   "outputs": [],
   "source": [
    "# YOLOv8 모델 로드 (초기 모델 사용)\n",
    "model = YOLO('yolov8n.pt')  # 2000장 50번 학습시킨 가중치\n",
    "\n",
    "# 모델 학습\n",
    "model.train(\n",
    "    data='data.yaml',  # YOLOv8 데이터셋 설정 파일 경로\n",
    "    epochs=50,  # 에포크 수\n",
    "    imgsz=640,  # 이미지 크기\n",
    "    batch=16,  # 배치 크기\n",
    "    name='face_detection_yolov8',  # 모델 저장 이름\n",
    ")"
   ]
  },
  {
   "cell_type": "code",
   "execution_count": null,
   "metadata": {},
   "outputs": [],
   "source": []
  }
 ],
 "metadata": {
  "kernelspec": {
   "display_name": ".venv",
   "language": "python",
   "name": "python3"
  },
  "language_info": {
   "codemirror_mode": {
    "name": "ipython",
    "version": 3
   },
   "file_extension": ".py",
   "mimetype": "text/x-python",
   "name": "python",
   "nbconvert_exporter": "python",
   "pygments_lexer": "ipython3",
   "version": "3.10.14"
  }
 },
 "nbformat": 4,
 "nbformat_minor": 2
}
